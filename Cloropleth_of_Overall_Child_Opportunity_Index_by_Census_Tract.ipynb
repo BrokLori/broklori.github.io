{
  "nbformat": 4,
  "nbformat_minor": 0,
  "metadata": {
    "colab": {
      "name": "Cloropleth of Overall Child Opportunity Index by Census Tract.ipynb",
      "version": "0.3.2",
      "provenance": [],
      "collapsed_sections": [],
      "toc_visible": true,
      "include_colab_link": true
    },
    "kernelspec": {
      "name": "python3",
      "display_name": "Python 3"
    },
    "accelerator": "GPU"
  },
  "cells": [
    {
      "cell_type": "markdown",
      "metadata": {
        "id": "view-in-github",
        "colab_type": "text"
      },
      "source": [
        "<a href=\"https://colab.research.google.com/github/BrokLori/broklori.github.io/blob/master/Cloropleth_of_Overall_Child_Opportunity_Index_by_Census_Tract.ipynb\" target=\"_parent\"><img src=\"https://colab.research.google.com/assets/colab-badge.svg\" alt=\"Open In Colab\"/></a>"
      ]
    },
    {
      "cell_type": "markdown",
      "metadata": {
        "id": "ee5OvsImQbpJ",
        "colab_type": "text"
      },
      "source": [
        "## First \"Map\" of Buffalo\n",
        "\n",
        "First step: Display a map of the Buffalo area. Areas of interest = Amherst (specifically Williamsville/Eggertsville/Snyder), Kenmore and Tonawanda. Add demographic data for these areas using census/ACS survey data (population, crime, diversity, school ratings etc.). \n",
        "\n",
        "**Desired outcome: User can select and/or rate preferred characteristics for a neighborhood, and based on that input, get some kind of visualization that demonstrates which neighborhoods would be the best fit.**"
      ]
    },
    {
      "cell_type": "code",
      "metadata": {
        "id": "qL61IUKKJf43",
        "colab_type": "code",
        "colab": {}
      },
      "source": [
        "# Install libraries\n",
        "!pip install geopandas\n",
        "!pip install descartes"
      ],
      "execution_count": 0,
      "outputs": []
    },
    {
      "cell_type": "code",
      "metadata": {
        "id": "5H3jzaixHAO2",
        "colab_type": "code",
        "colab": {}
      },
      "source": [
        "# Import libraries\n",
        "# %matplotlib inline sets backend of matplotlib to 'inline' backend\n",
        "# Output displayed below the cell\n",
        "%matplotlib inline\n",
        "import pandas as pd\n",
        "import numpy as np\n",
        "import matplotlib.pyplot as plt\n",
        "import geopandas as gpd\n",
        "import descartes as dc"
      ],
      "execution_count": 0,
      "outputs": []
    },
    {
      "cell_type": "code",
      "metadata": {
        "id": "sRx-wJUjHGuo",
        "colab_type": "code",
        "colab": {}
      },
      "source": [
        "# Import gspread for Google Colab\n",
        "!pip install --upgrade -q gspread"
      ],
      "execution_count": 0,
      "outputs": []
    },
    {
      "cell_type": "code",
      "metadata": {
        "id": "0H-p9IL8HVrZ",
        "colab_type": "code",
        "colab": {}
      },
      "source": [
        "# Upload shapefiles from computer using files > upload tool\n",
        "\n",
        "from google.colab import files\n",
        "\n",
        "uploaded = files.upload()\n",
        "\n",
        "for fn in uploaded.keys():\n",
        "  print('User uploaded file \"{name}\" with length {length} bytes'.format(\n",
        "      name=fn, length=len(uploaded[fn])))"
      ],
      "execution_count": 0,
      "outputs": []
    },
    {
      "cell_type": "code",
      "metadata": {
        "id": "etMM9NcVEvto",
        "colab_type": "code",
        "colab": {}
      },
      "source": [
        "# Set filepath and load in a shapefile (Jupyter Notebook only)\n",
        "# To get filepath, drag and drop in terminal (Jupyter Notebook only)\n",
        "\n",
        "# Read in shapefile\n",
        "\n",
        "fp = \"tl_2018_36_tract.shp\"\n",
        "map_df = gpd.read_file(fp)"
      ],
      "execution_count": 0,
      "outputs": []
    },
    {
      "cell_type": "code",
      "metadata": {
        "id": "Al6_ns8THW8p",
        "colab_type": "code",
        "colab": {}
      },
      "source": [
        "# Check data type\n",
        "# This is not a normal dataframe, but a GEOdataframe\n",
        "map_df.head()"
      ],
      "execution_count": 0,
      "outputs": []
    },
    {
      "cell_type": "code",
      "metadata": {
        "id": "qVqhW838lBgw",
        "colab_type": "code",
        "colab": {}
      },
      "source": [
        "# Filter COUNTYFP to only include Erie County (FIPS code 029)\n",
        "map_df = map_df[map_df['COUNTYFP']=='029']\n",
        "\n",
        "# Choose only columns that I want\n",
        "map_df = map_df[['GEOID', 'geometry']]\n",
        "\n",
        "# If you want to rename columns use the following commented code\n",
        "# Map_df = map_df.rename(index=str, columns={\"NAMELSAD\": \"Census Tract\",\n",
        "                                           #\"geometry\": \"geometry\"})\n",
        "map_df.head()"
      ],
      "execution_count": 0,
      "outputs": []
    },
    {
      "cell_type": "code",
      "metadata": {
        "id": "Xn4rXIYPMaeA",
        "colab_type": "code",
        "colab": {}
      },
      "source": [
        "# Preview map with no data in it\n",
        "map_df.plot(figsize=(10,10))"
      ],
      "execution_count": 0,
      "outputs": []
    },
    {
      "cell_type": "code",
      "metadata": {
        "id": "lhaFNg-PjCcs",
        "colab_type": "code",
        "colab": {}
      },
      "source": [
        "# Import data from google sheets\n",
        "from google.colab import auth\n",
        "auth.authenticate_user()\n",
        "\n",
        "import gspread\n",
        "from oauth2client.client import GoogleCredentials\n",
        "\n",
        "gc = gspread.authorize(GoogleCredentials.get_application_default())\n",
        "\n",
        "worksheet = gc.open('Buffalo_Child_Opportunity').sheet1\n",
        "\n",
        "# Get_all_values gives a list of rows.\n",
        "rows = worksheet.get_all_values()\n",
        "print(rows)\n",
        "\n",
        "# Convert to a DataFrame and render.\n",
        "df = pd.DataFrame.from_records(rows)\n",
        "df.head()"
      ],
      "execution_count": 0,
      "outputs": []
    },
    {
      "cell_type": "code",
      "metadata": {
        "id": "vwUOy1eRzX-E",
        "colab_type": "code",
        "colab": {}
      },
      "source": [
        "# Remove the first row/header\n",
        "# Create a new variable called 'new_header' from first row of dataset\n",
        "new_header = df.iloc[0] \n",
        "\n",
        "# Slice the rest of your data, minus header row\n",
        "df = df[1:] \n",
        "\n",
        "# Set the header row as the df header\n",
        "df.columns = new_header\n",
        "\n",
        "# Preview the 5 first rows of the new dataset\n",
        "df.head()"
      ],
      "execution_count": 0,
      "outputs": []
    },
    {
      "cell_type": "code",
      "metadata": {
        "id": "4GHtbAo4KWQU",
        "colab_type": "code",
        "colab": {}
      },
      "source": [
        "# Select the columns that we want for the map\n",
        "score = df[['FIPS', 'ALLCOMP']]\n",
        "\n",
        "# Check dataframe\n",
        "score.head()"
      ],
      "execution_count": 0,
      "outputs": []
    },
    {
      "cell_type": "code",
      "metadata": {
        "id": "BKYIZS-oboyj",
        "colab_type": "code",
        "colab": {}
      },
      "source": [
        "# Rename columns to something simpler, if needed\n",
        "# Make sure that merged columns match/not necessary if merging using GEOID\n",
        "# Remove ', Erie County, New York' and replace with empty string\n",
        "#score = df.replace(r'\\, Erie County, New York.*', '', regex=True)\n",
        "#score = score.rename(index=str, columns={\"GEO.display-label\": \"Geo Label\",\n",
        "                                      #\"HD01_VD01\": \"Estimate; Total\"})\n",
        "\n",
        "#score.head()"
      ],
      "execution_count": 0,
      "outputs": []
    },
    {
      "cell_type": "code",
      "metadata": {
        "id": "ryCCytKJK-Fk",
        "colab_type": "code",
        "colab": {}
      },
      "source": [
        "# Join the geodataframe with the cleaned up csv dataframe\n",
        "# 'Outer' join to include values for Estimate;Total\n",
        "merged = map_df.set_index('GEOID').join(score.set_index('FIPS'), how='outer')\n",
        "\n",
        "# NaN values are taken as floats. If needed, fill with empty strings ''\n",
        "#merged = merged.fillna('')\n",
        "merged.head()"
      ],
      "execution_count": 0,
      "outputs": []
    },
    {
      "cell_type": "code",
      "metadata": {
        "id": "Rob9KTpwMpRj",
        "colab_type": "code",
        "colab": {}
      },
      "source": [
        "# Set a variable that will call the column we want to visualise on the map\n",
        "variable = 'ALLCOMP'\n",
        "\n",
        "# Set the range for the choropleth\n",
        "vmin, vmax = -2,2\n",
        "\n",
        "# Create figure and axes for Matplotlib\n",
        "# Missing ) from source code\n",
        "fig, ax = plt.subplots(1, figsize=(10, 10))\n",
        "\n",
        "# Create map\n",
        "merged.plot(column=variable, cmap='Blues', linewidth=0.8, ax=ax, edgecolor='0.8')\n",
        "\n",
        "# Customize and add annotations\n",
        "\n",
        "# Remove the axis\n",
        "ax.axis('off')\n",
        "\n",
        "# Add a title\n",
        "ax.set_title('Overall Child Opportunity Index Score by Census Tract: \\nErie County, NY', \\\n",
        "              fontdict={'fontsize': '16',\n",
        "                        'fontweight' : '3'})\n",
        "\n",
        "# Create an annotation for the  data source\n",
        "ax.annotate('Source: diversitydatakids.org',\n",
        "           xy=(0.1, .08), xycoords='figure fraction',\n",
        "           horizontalalignment='left', verticalalignment='top',\n",
        "           fontsize=10, color='#555555')\n",
        "\n",
        "# Create colorbar as a legend\n",
        "sm = plt.cm.ScalarMappable(cmap='Blues', norm=plt.Normalize(vmin=vmin, vmax=vmax))\n",
        "sm._A = []\n",
        "cbar = fig.colorbar(sm)\n",
        "\n",
        "# This will save the figure as a high-res png. you can also save as svg\n",
        "fig.savefig('Overall Child Opportunity Index.png', dpi=300)"
      ],
      "execution_count": 0,
      "outputs": []
    }
  ]
}